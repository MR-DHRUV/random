{
 "cells": [
  {
   "cell_type": "code",
   "execution_count": 1,
   "metadata": {},
   "outputs": [],
   "source": [
    "import numpy as np"
   ]
  },
  {
   "cell_type": "code",
   "execution_count": 2,
   "metadata": {},
   "outputs": [],
   "source": [
    "class KNNClassifier:\n",
    "    def __init__(self, k=3):\n",
    "        self.k = k\n",
    "\n",
    "    def fit(self, X_train, y_train):\n",
    "        self.X_train = X_train\n",
    "        self.y_train = y_train\n",
    "\n",
    "    def euclidean_distance(self, x1, x2):\n",
    "        return np.sqrt(np.sum((x1 - x2) ** 2))\n",
    "\n",
    "    def predict(self, X_test):\n",
    "        predictions = []\n",
    "        for sample in X_test:\n",
    "            distances = []\n",
    "            for i, train_sample in enumerate(self.X_train):\n",
    "                dist = self.euclidean_distance(sample, train_sample)\n",
    "                distances.append((dist, i))\n",
    "            distances = sorted(distances)[:self.k]\n",
    "            neighbors_labels = [self.y_train[idx] for (_, idx) in distances]\n",
    "            most_common_label = max(set(neighbors_labels), key=neighbors_labels.count)\n",
    "            predictions.append(most_common_label)\n",
    "        return predictions"
   ]
  },
  {
   "cell_type": "code",
   "execution_count": 4,
   "metadata": {},
   "outputs": [],
   "source": [
    "# data\n",
    "X = np.array([[0, 32],[0, 40],[1, 16],[1, 34],[0, 55],[0, 40],[1, 20],[0, 15],[1, 55],[0, 15]])\n",
    "y = np.array([\"Football\", \"Neither\", \"Cricket\", \"Cricket\", \"Neither\", \"Cricket\", \"Neither\", \"Cricket\", \"Football\", \"Football\"])"
   ]
  },
  {
   "cell_type": "code",
   "execution_count": 7,
   "metadata": {},
   "outputs": [
    {
     "name": "stdout",
     "output_type": "stream",
     "text": [
      "['Cricket']\n"
     ]
    }
   ],
   "source": [
    "# predict\n",
    "knn = KNNClassifier(k=3)\n",
    "\n",
    "# test data \n",
    "#  Angelina having k=3 and age 5, gender = 1 (female)\n",
    "x_test = np.array([[1, 5]])\n",
    "\n",
    "knn.fit(X, y)\n",
    "predictions = knn.predict(x_test)\n",
    "print(predictions)"
   ]
  }
 ],
 "metadata": {
  "kernelspec": {
   "display_name": "Python 3 (ipykernel)",
   "language": "python",
   "name": "python3"
  },
  "language_info": {
   "codemirror_mode": {
    "name": "ipython",
    "version": 3
   },
   "file_extension": ".py",
   "mimetype": "text/x-python",
   "name": "python",
   "nbconvert_exporter": "python",
   "pygments_lexer": "ipython3",
   "version": "3.11.7"
  }
 },
 "nbformat": 4,
 "nbformat_minor": 4
}
