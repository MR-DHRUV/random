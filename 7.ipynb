{
 "cells": [
  {
   "cell_type": "code",
   "execution_count": 1,
   "metadata": {},
   "outputs": [],
   "source": [
    "import math"
   ]
  },
  {
   "cell_type": "code",
   "execution_count": 5,
   "metadata": {},
   "outputs": [],
   "source": [
    "# Data\n",
    "X = [\n",
    "    [6.0, 180, 10],\n",
    "    [6.0, 180, 10],\n",
    "    [5.5, 170, 8],\n",
    "    [6.0, 170, 10],\n",
    "    [5.5, 130, 8],\n",
    "    [5.0, 150, 6],\n",
    "    [5.0, 130, 8],\n",
    "    [6.0, 150, 6]\n",
    "]\n",
    "y = [\"male\", \"male\", \"male\", \"male\", \"female\", \"female\", \"female\", \"female\"]"
   ]
  },
  {
   "cell_type": "code",
   "execution_count": 4,
   "metadata": {},
   "outputs": [],
   "source": [
    "class BayesianClassifier:\n",
    "    def __init__(self):\n",
    "        self.class_probs = {}\n",
    "        self.feature_info = {}\n",
    "\n",
    "    def fit(self, X, y):\n",
    "        # Calculate prior probabilities\n",
    "        total_samples = len(y)\n",
    "        unique_classes = set(y)\n",
    "        for cls in unique_classes:\n",
    "            self.class_probs[cls] = y.count(cls) / total_samples\n",
    "\n",
    "        # Calculate mean and variance for each feature by class\n",
    "        for cls in unique_classes:\n",
    "            self.feature_info[cls] = {}\n",
    "            cls_indices = [i for i, label in enumerate(y) if label == cls]\n",
    "            for feature_idx in range(len(X[0])):\n",
    "                feature_values = [X[i][feature_idx] for i in cls_indices]\n",
    "                mean = sum(feature_values) / len(feature_values)\n",
    "                variance = sum([(x - mean) ** 2 for x in feature_values]) / len(feature_values)\n",
    "                self.feature_info[cls][feature_idx] = (mean, variance)\n",
    "\n",
    "    def gaussian_probability(self, x, mean, variance):\n",
    "        exponent = math.exp(-(math.pow(x - mean, 2) / (2 * variance)))\n",
    "        return (1 / (math.sqrt(2 * math.pi * variance))) * exponent\n",
    "\n",
    "    def predict_proba(self, X):\n",
    "        probabilities = []\n",
    "        for sample in X:\n",
    "            class_probs = {}\n",
    "            for cls in self.class_probs:\n",
    "                class_prob = self.class_probs[cls]\n",
    "                for feature_idx, (mean, variance) in self.feature_info[cls].items():\n",
    "                    class_prob *= self.gaussian_probability(sample[feature_idx], mean, variance)\n",
    "                class_probs[cls] = class_prob\n",
    "            probabilities.append(class_probs)\n",
    "        return probabilities\n",
    "\n",
    "    def predict(self, X):\n",
    "        probabilities = self.predict_proba(X)\n",
    "        predictions = []\n",
    "        for probs in probabilities:\n",
    "            predicted_class = max(probs, key=probs.get)\n",
    "            predictions.append(predicted_class)\n",
    "        return predictions"
   ]
  },
  {
   "cell_type": "code",
   "execution_count": 14,
   "metadata": {},
   "outputs": [
    {
     "name": "stdout",
     "output_type": "stream",
     "text": [
      "Predictions: ['female']\n"
     ]
    }
   ],
   "source": [
    "model = BayesianClassifier()\n",
    "model.fit(X, y)\n",
    "\n",
    "# Predict\n",
    "x_test = [[6.0,130,8]]\n",
    "predictions = model.predict(x_test)\n",
    "print(\"Predictions:\", predictions)"
   ]
  }
 ],
 "metadata": {
  "kernelspec": {
   "display_name": "Python 3 (ipykernel)",
   "language": "python",
   "name": "python3"
  },
  "language_info": {
   "codemirror_mode": {
    "name": "ipython",
    "version": 3
   },
   "file_extension": ".py",
   "mimetype": "text/x-python",
   "name": "python",
   "nbconvert_exporter": "python",
   "pygments_lexer": "ipython3",
   "version": "3.11.7"
  }
 },
 "nbformat": 4,
 "nbformat_minor": 4
}
