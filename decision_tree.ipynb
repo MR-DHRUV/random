{
 "cells": [
  {
   "cell_type": "code",
   "execution_count": 1,
   "metadata": {},
   "outputs": [],
   "source": [
    "import numpy as np\n",
    "import matplotlib.pyplot as plt\n",
    "from sklearn import datasets\n",
    "from sklearn.model_selection import train_test_split\n",
    "from sklearn.metrics import accuracy_score"
   ]
  },
  {
   "cell_type": "code",
   "execution_count": 2,
   "metadata": {},
   "outputs": [],
   "source": [
    "def entropy(y):\n",
    "    _, counts = np.unique(y, return_counts=True)\n",
    "    probabilities = counts / len(y)\n",
    "    return -np.sum(probabilities * np.log2(probabilities + 1e-10))\n",
    "\n",
    "def information_gain(X, y, feature_index, threshold):\n",
    "    mask = X[:, feature_index] <= threshold\n",
    "    left_entropy = entropy(y[mask])\n",
    "    right_entropy = entropy(y[~mask])\n",
    "    p_left = sum(mask) / len(y)\n",
    "    p_right = 1 - p_left\n",
    "    return entropy(y) - (p_left * left_entropy + p_right * right_entropy)\n",
    "\n",
    "def find_best_split(X, y):\n",
    "    num_samples, num_features = X.shape\n",
    "    best_information_gain = 0\n",
    "    best_feature_index = None\n",
    "    best_threshold = None\n",
    "\n",
    "    for feature_index in range(num_features):\n",
    "        thresholds = np.unique(X[:, feature_index])\n",
    "\n",
    "        for threshold in thresholds:\n",
    "            ig = information_gain(X, y, feature_index, threshold)\n",
    "\n",
    "            if ig > best_information_gain:\n",
    "                best_information_gain = ig\n",
    "                best_feature_index = feature_index\n",
    "                best_threshold = threshold\n",
    "\n",
    "    return best_feature_index, best_threshold\n",
    "\n",
    "def build_tree(X, y, depth, max_depth):\n",
    "    num_samples, num_features = X.shape\n",
    "    unique_classes, counts = np.unique(y, return_counts=True)\n",
    "\n",
    "    if len(unique_classes) == 1 or depth == max_depth:\n",
    "        return {'class': unique_classes[0]}\n",
    "\n",
    "    feature_index, threshold = find_best_split(X, y)\n",
    "    mask = X[:, feature_index] <= threshold\n",
    "\n",
    "    left_subtree = build_tree(X[mask], y[mask], depth + 1, max_depth)\n",
    "    right_subtree = build_tree(X[~mask], y[~mask], depth + 1, max_depth)\n",
    "\n",
    "    return {'feature_index': feature_index, 'threshold': threshold,\n",
    "            'left': left_subtree, 'right': right_subtree}\n",
    "\n",
    "def predict_tree(node, sample):\n",
    "    if 'class' in node:\n",
    "        return node['class']\n",
    "\n",
    "    if sample[node['feature_index']] <= node['threshold']:\n",
    "        return predict_tree(node['left'], sample)\n",
    "    else:\n",
    "        return predict_tree(node['right'], sample)\n"
   ]
  },
  {
   "cell_type": "code",
   "execution_count": 6,
   "metadata": {},
   "outputs": [
    {
     "name": "stdout",
     "output_type": "stream",
     "text": [
      "Accuracy: 0.97\n"
     ]
    }
   ],
   "source": [
    "# Load the Iris dataset\n",
    "iris = datasets.load_iris()\n",
    "X = iris.data\n",
    "y = iris.target\n",
    "\n",
    "# Split the data into training and testing sets\n",
    "X_train, X_test, y_train, y_test = train_test_split(X, y, test_size=0.2, random_state=420)\n",
    "\n",
    "# Build a decision tree\n",
    "max_depth = 3\n",
    "tree = build_tree(X_train, y_train, depth=0, max_depth=max_depth)\n",
    "\n",
    "# Make predictions on the test set\n",
    "y_pred = [predict_tree(tree, sample) for sample in X_test]\n",
    "\n",
    "# Calculate accuracy\n",
    "accuracy = accuracy_score(y_test, y_pred)\n",
    "print(f\"Accuracy: {accuracy:.2f}\")"
   ]
  }
 ],
 "metadata": {
  "kernelspec": {
   "display_name": "Python 3",
   "language": "python",
   "name": "python3"
  },
  "language_info": {
   "codemirror_mode": {
    "name": "ipython",
    "version": 3
   },
   "file_extension": ".py",
   "mimetype": "text/x-python",
   "name": "python",
   "nbconvert_exporter": "python",
   "pygments_lexer": "ipython3",
   "version": "3.11.3"
  }
 },
 "nbformat": 4,
 "nbformat_minor": 2
}
